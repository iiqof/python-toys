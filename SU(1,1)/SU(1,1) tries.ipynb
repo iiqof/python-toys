{
 "cells": [
  {
   "cell_type": "code",
   "execution_count": 1,
   "metadata": {
    "collapsed": true
   },
   "outputs": [],
   "source": [
    "from sympy import *\n",
    "import numpy as np\n",
    "import matplotlib.pyplot as plt\n",
    "from su11_routines import *\n",
    "init_printing()"
   ]
  },
  {
   "cell_type": "code",
   "execution_count": 77,
   "metadata": {},
   "outputs": [
    {
     "data": {
      "image/png": "[encoded data removed]",
      "text/latex": [
       "$$z e^{i \\theta}$$"
      ],
      "text/plain": [
       "   ⅈ⋅θ\n",
       "z⋅ℯ   "
      ]
     },
     "execution_count": 77,
     "metadata": {},
     "output_type": "execute_result"
    }
   ],
   "source": [
    "theta = symbols('theta', real=True)\n",
    "z = symbols('z')\n",
    "Action(R(theta),z)"
   ]
  },
  {
   "cell_type": "code",
   "execution_count": 62,
   "metadata": {},
   "outputs": [
    {
     "data": {
      "image/png": "[encoded data removed]",
      "text/latex": [
       "$$\\left ( \\frac{w + z}{w \\overline{z} + 1}, \\quad z, \\quad 0\\right )$$"
      ],
      "text/plain": [
       "⎛ w + z       ⎞\n",
       "⎜───────, z, 0⎟\n",
       "⎜  _          ⎟\n",
       "⎝w⋅z + 1      ⎠"
      ]
     },
     "execution_count": 62,
     "metadata": {},
     "output_type": "execute_result"
    }
   ],
   "source": [
    "simplify(Action(P(z),w)),simplify(Action(P(z),0)), simplify(Action(P(-z),z))"
   ]
  },
  {
   "cell_type": "code",
   "execution_count": 63,
   "metadata": {},
   "outputs": [
    {
     "data": {
      "image/png": "[encoded data removed]",
      "text/latex": [
       "$$\\left ( \\left[\\begin{matrix}- \\frac{z}{\\sqrt{z \\overline{z}}}\\\\1\\end{matrix}\\right], \\quad \\left[\\begin{matrix}\\frac{z}{\\sqrt{z \\overline{z}}}\\\\1\\end{matrix}\\right]\\right )$$"
      ],
      "text/plain": [
       "⎛⎡  -z    ⎤  ⎡   z    ⎤⎞\n",
       "⎜⎢────────⎥, ⎢────────⎥⎟\n",
       "⎜⎢   _____⎥  ⎢   _____⎥⎟\n",
       "⎜⎢  ╱   _ ⎥  ⎢  ╱   _ ⎥⎟\n",
       "⎜⎢╲╱  z⋅z ⎥  ⎢╲╱  z⋅z ⎥⎟\n",
       "⎜⎢        ⎥  ⎢        ⎥⎟\n",
       "⎝⎣   1    ⎦  ⎣   1    ⎦⎠"
      ]
     },
     "execution_count": 63,
     "metadata": {},
     "output_type": "execute_result"
    }
   ],
   "source": [
    "e1 = simplify(P(z).eigenvects())[0][2][0]\n",
    "e2 = simplify(P(z).eigenvects())[1][2][0]\n",
    "\n",
    "e1, e2"
   ]
  },
  {
   "cell_type": "code",
   "execution_count": 64,
   "metadata": {},
   "outputs": [
    {
     "data": {
      "image/png": "[encoded data removed]",
      "text/latex": [
       "$$\\left ( \\left[\\begin{matrix}\\frac{1}{\\sqrt{- z \\overline{z} + 1}} & - \\frac{z}{\\sqrt{- z \\overline{z} + 1}}\\\\- \\frac{\\overline{z}}{\\sqrt{- z \\overline{z} + 1}} & \\frac{1}{\\sqrt{- z \\overline{z} + 1}}\\end{matrix}\\right], \\quad \\left[\\begin{matrix}1 & 0\\\\0 & 1\\end{matrix}\\right]\\right )$$"
      ],
      "text/plain": [
       "⎛⎡      1              -z       ⎤        ⎞\n",
       "⎜⎢──────────────  ──────────────⎥, ⎡1  0⎤⎟\n",
       "⎜⎢   ___________     ___________⎥  ⎢    ⎥⎟\n",
       "⎜⎢  ╱     _         ╱     _     ⎥  ⎣0  1⎦⎟\n",
       "⎜⎢╲╱  - z⋅z + 1   ╲╱  - z⋅z + 1 ⎥        ⎟\n",
       "⎜⎢                              ⎥        ⎟\n",
       "⎜⎢      _                       ⎥        ⎟\n",
       "⎜⎢     -z               1       ⎥        ⎟\n",
       "⎜⎢──────────────  ──────────────⎥        ⎟\n",
       "⎜⎢   ___________     ___________⎥        ⎟\n",
       "⎜⎢  ╱     _         ╱     _     ⎥        ⎟\n",
       "⎝⎣╲╱  - z⋅z + 1   ╲╱  - z⋅z + 1 ⎦        ⎠"
      ]
     },
     "execution_count": 64,
     "metadata": {},
     "output_type": "execute_result"
    }
   ],
   "source": [
    "simplify(P(z).inv()), simplify(P(-z)*P(z))"
   ]
  },
  {
   "cell_type": "code",
   "execution_count": 93,
   "metadata": {},
   "outputs": [
    {
     "data": {
      "image/png": "[encoded data removed]",
      "text/latex": [
       "$$\\left ( \\left[\\begin{matrix}- \\frac{\\overline{Z{\\left (t \\right )}} \\frac{d}{d t} Z{\\left (t \\right )} - \\overline{\\frac{d}{d t} Z{\\left (t \\right )}} Z{\\left (t \\right )}}{2 \\overline{Z{\\left (t \\right )}} Z{\\left (t \\right )} - 2} & - \\frac{\\frac{d}{d t} Z{\\left (t \\right )}}{\\overline{Z{\\left (t \\right )}} Z{\\left (t \\right )} - 1}\\\\- \\frac{\\overline{\\frac{d}{d t} Z{\\left (t \\right )}}}{\\overline{Z{\\left (t \\right )}} Z{\\left (t \\right )} - 1} & \\frac{\\overline{Z{\\left (t \\right )}} \\frac{d}{d t} Z{\\left (t \\right )} - \\overline{\\frac{d}{d t} Z{\\left (t \\right )}} Z{\\left (t \\right )}}{2 \\overline{Z{\\left (t \\right )}} Z{\\left (t \\right )} - 2}\\end{matrix}\\right], \\quad \\left[\\begin{matrix}0 & \\left. \\frac{d}{d t} Z{\\left (t \\right )} \\right|_{\\substack{ t=0 }}\\\\\\overline{\\left. \\frac{d}{d t} Z{\\left (t \\right )} \\right|_{\\substack{ t=0 }}} & 0\\end{matrix}\\right], \\quad \\left[\\begin{matrix}0 & 2 \\left. \\frac{d}{d t} Z{\\left (t \\right )} \\right|_{\\substack{ t=0 }}\\\\2 \\overline{\\left. \\frac{d}{d t} Z{\\left (t \\right )} \\right|_{\\substack{ t=0 }}} & 0\\end{matrix}\\right]\\right )$$"
      ],
      "text/plain": [
       "⎛⎡ ⎛                ________     ⎞                                ⎤           \n",
       "⎜⎢ ⎜____ d          d            ⎟              d                 ⎥           \n",
       "⎜⎢-⎜Z(t)⋅──(Z(t)) - ──(Z(t))⋅Z(t)⎟             -──(Z(t))          ⎥           \n",
       "⎜⎢ ⎝     dt         dt           ⎠              dt                ⎥  ⎡        \n",
       "⎜⎢─────────────────────────────────          ─────────────        ⎥, ⎢      0 \n",
       "⎜⎢           ____                            ____                 ⎥  ⎢        \n",
       "⎜⎢         2⋅Z(t)⋅Z(t) - 2                   Z(t)⋅Z(t) - 1        ⎥  ⎢        \n",
       "⎜⎢                                                                ⎥  ⎢________\n",
       "⎜⎢             ________                              ________     ⎥  ⎢⎛d      \n",
       "⎜⎢             d                     ____ d          d            ⎥  ⎢⎜──(Z(t)\n",
       "⎜⎢            -──(Z(t))              Z(t)⋅──(Z(t)) - ──(Z(t))⋅Z(t)⎥  ⎣⎝dt     \n",
       "⎜⎢             dt                         dt         dt           ⎥           \n",
       "⎜⎢          ─────────────            ─────────────────────────────⎥           \n",
       "⎜⎢          ____                             ⎛____         ⎞      ⎥           \n",
       "⎝⎣          Z(t)⋅Z(t) - 1                  2⋅⎝Z(t)⋅Z(t) - 1⎠      ⎦           \n",
       "\n",
       "                                                             ⎞\n",
       "                                                             ⎟\n",
       "                                                             ⎟\n",
       "        ⎛d       ⎞│   ⎤  ⎡                    ⎛d       ⎞│   ⎤⎟\n",
       "        ⎜──(Z(t))⎟│   ⎥, ⎢       0          2⋅⎜──(Z(t))⎟│   ⎥⎟\n",
       "        ⎝dt      ⎠│t=0⎥  ⎢                    ⎝dt      ⎠│t=0⎥⎟\n",
       "                      ⎥  ⎢                                  ⎥⎟\n",
       "______                ⎥  ⎢  ______________                  ⎥⎟\n",
       " ⎞│                   ⎥  ⎢  ⎛d       ⎞│                     ⎥⎟\n",
       ")⎟│           0       ⎥  ⎢2⋅⎜──(Z(t))⎟│            0        ⎥⎟\n",
       " ⎠│t=0                ⎦  ⎣  ⎝dt      ⎠│t=0                  ⎦⎟\n",
       "                                                             ⎟\n",
       "                                                             ⎟\n",
       "                                                             ⎟\n",
       "                                                             ⎠"
      ]
     },
     "execution_count": 93,
     "metadata": {},
     "output_type": "execute_result"
    }
   ],
   "source": [
    "t = symbols('t', real=True)\n",
    "\n",
    "class Z(Function):\n",
    "    @classmethod\n",
    "    def eval(cls, x):\n",
    "        if x.is_Number:\n",
    "            if x is S.Zero:\n",
    "                return S.Zero\n",
    "\n",
    "class Theta(Function):\n",
    "    @classmethod\n",
    "    def eval(cls, x):\n",
    "        if x.is_Number:\n",
    "            if x is S.Zero:\n",
    "                return S.Zero\n",
    "\n",
    "simplify(P(-Z(t))*P(Z(t)).diff(t)), simplify(P(Z(t)).diff(t).subs(t,0)), simplify((P(Z(t))*P(Z(t))).diff(t)).subs(t,0)"
   ]
  },
  {
   "cell_type": "code",
   "execution_count": 82,
   "metadata": {},
   "outputs": [
    {
     "data": {
      "image/png": "[encoded data removed]",
      "text/latex": [
       "$$- \\frac{4 \\overline{\\frac{d}{d t} Z{\\left (t \\right )}} \\frac{d}{d t} Z{\\left (t \\right )}}{\\overline{Z{\\left (t \\right )}}^{2} Z^{2}{\\left (t \\right )} - 2 \\overline{Z{\\left (t \\right )}} Z{\\left (t \\right )} + 1}$$"
      ],
      "text/plain": [
       "       ________              \n",
       "       d        d            \n",
       "    -4⋅──(Z(t))⋅──(Z(t))     \n",
       "       dt       dt           \n",
       "─────────────────────────────\n",
       "    2                        \n",
       "____   2        ____         \n",
       "Z(t) ⋅Z (t) - 2⋅Z(t)⋅Z(t) + 1"
      ]
     },
     "execution_count": 82,
     "metadata": {},
     "output_type": "execute_result"
    }
   ],
   "source": [
    "simplify(det((P(Z(t))*P(Z(t))).diff(t)))"
   ]
  },
  {
   "cell_type": "code",
   "execution_count": 67,
   "metadata": {
    "collapsed": true
   },
   "outputs": [],
   "source": [
    "def g(theta,z):\n",
    "    return U(theta)*P(z)"
   ]
  },
  {
   "cell_type": "code",
   "execution_count": 78,
   "metadata": {},
   "outputs": [
    {
     "data": {
      "image/png": "[encoded data removed]",
      "text/latex": [
       "$$\\left ( \\left[\\begin{matrix}\\frac{e^{- i \\theta}}{\\sqrt{- z \\overline{z} + 1}} & - \\frac{z e^{i \\theta}}{\\sqrt{- z \\overline{z} + 1}}\\\\- \\frac{e^{- i \\theta} \\overline{z}}{\\sqrt{- z \\overline{z} + 1}} & \\frac{e^{i \\theta}}{\\sqrt{- z \\overline{z} + 1}}\\end{matrix}\\right], \\quad \\left[\\begin{matrix}1 & 0\\\\0 & 1\\end{matrix}\\right], \\quad \\left[\\begin{matrix}\\sqrt{- z \\overline{z} + 1} \\overline{\\frac{1}{\\sqrt{- z \\overline{z} + 1}}} & 0\\\\0 & \\sqrt{- z \\overline{z} + 1} \\overline{\\frac{1}{\\sqrt{- z \\overline{z} + 1}}}\\end{matrix}\\right]\\right )$$"
      ],
      "text/plain": [
       "⎛⎡     -ⅈ⋅θ              ⅈ⋅θ    ⎤          ⎡   ___________ ______________     \n",
       "⎜⎢    ℯ              -z⋅ℯ       ⎥          ⎢  ╱     _            1            \n",
       "⎜⎢──────────────  ──────────────⎥, ⎡1  0⎤, ⎢╲╱  - z⋅z + 1 ⋅──────────────     \n",
       "⎜⎢   ___________     ___________⎥  ⎢    ⎥  ⎢                  ___________     \n",
       "⎜⎢  ╱     _         ╱     _     ⎥  ⎣0  1⎦  ⎢                 ╱     _          \n",
       "⎜⎢╲╱  - z⋅z + 1   ╲╱  - z⋅z + 1 ⎥          ⎢               ╲╱  - z⋅z + 1      \n",
       "⎜⎢                              ⎥          ⎢                                  \n",
       "⎜⎢    -ⅈ⋅θ _            ⅈ⋅θ     ⎥          ⎢                                  \n",
       "⎜⎢  -ℯ    ⋅z           ℯ        ⎥          ⎢                                 ╱\n",
       "⎜⎢──────────────  ──────────────⎥          ⎢              0                ╲╱ \n",
       "⎜⎢   ___________     ___________⎥          ⎢                                  \n",
       "⎜⎢  ╱     _         ╱     _     ⎥          ⎢                                  \n",
       "⎝⎣╲╱  - z⋅z + 1   ╲╱  - z⋅z + 1 ⎦          ⎣                                  \n",
       "\n",
       "                          ⎤⎞\n",
       "                          ⎥⎟\n",
       "           0              ⎥⎟\n",
       "                          ⎥⎟\n",
       "                          ⎥⎟\n",
       "                          ⎥⎟\n",
       "                          ⎥⎟\n",
       "___________ ______________⎥⎟\n",
       "     _            1       ⎥⎟\n",
       " - z⋅z + 1 ⋅──────────────⎥⎟\n",
       "               ___________⎥⎟\n",
       "              ╱     _     ⎥⎟\n",
       "            ╲╱  - z⋅z + 1 ⎦⎠"
      ]
     },
     "execution_count": 78,
     "metadata": {},
     "output_type": "execute_result"
    }
   ],
   "source": [
    "H1 = diag(1,-1)\n",
    "simplify(g(theta, z).inv()), simplify(P(-z)*U(-theta)*g(theta,z)), simplify(H1*g(theta,z).adjoint()*H1*g(theta,z))\n"
   ]
  },
  {
   "cell_type": "code",
   "execution_count": 89,
   "metadata": {},
   "outputs": [
    {
     "data": {
      "image/png": "[encoded data removed]",
      "text/latex": [
       "$$- \\frac{e^{- 2 i \\Theta{\\left (t \\right )}}}{\\overline{Z{\\left (t \\right )}}^{2} Z^{2}{\\left (t \\right )} - 2 \\overline{Z{\\left (t \\right )}} Z{\\left (t \\right )} + 1} \\left(\\left(- 4 e^{2 i \\Theta{\\left (t \\right )}} \\overline{Z{\\left (t \\right )}} Z{\\left (t \\right )} + 4 e^{2 i \\Theta{\\left (t \\right )}}\\right) \\frac{d}{d t} \\Theta{\\left (t \\right )}^{2} + \\left(- e^{4 i \\Theta{\\left (t \\right )}} \\overline{\\frac{d}{d t} Z{\\left (t \\right )}} - 2 e^{2 i \\Theta{\\left (t \\right )}} \\overline{\\frac{d}{d t} Z{\\left (t \\right )}} - \\overline{\\frac{d}{d t} Z{\\left (t \\right )}}\\right) \\frac{d}{d t} Z{\\left (t \\right )} + \\left(2 i e^{4 i \\Theta{\\left (t \\right )}} \\overline{Z{\\left (t \\right )}} \\frac{d}{d t} Z{\\left (t \\right )} + 2 i e^{2 i \\Theta{\\left (t \\right )}} \\overline{Z{\\left (t \\right )}} \\frac{d}{d t} Z{\\left (t \\right )} - 2 i e^{2 i \\Theta{\\left (t \\right )}} \\overline{\\frac{d}{d t} Z{\\left (t \\right )}} Z{\\left (t \\right )} - 2 i \\overline{\\frac{d}{d t} Z{\\left (t \\right )}} Z{\\left (t \\right )}\\right) \\frac{d}{d t} \\Theta{\\left (t \\right )}\\right)$$"
      ],
      "text/plain": [
       " ⎛                                                  2   ⎛            ________ \n",
       " ⎜⎛     2⋅ⅈ⋅Θ(t) ____           2⋅ⅈ⋅Θ(t)⎞ ⎛d       ⎞    ⎜   4⋅ⅈ⋅Θ(t) d        \n",
       "-⎜⎝- 4⋅ℯ        ⋅Z(t)⋅Z(t) + 4⋅ℯ        ⎠⋅⎜──(Θ(t))⎟  + ⎜- ℯ        ⋅──(Z(t)) \n",
       " ⎝                                        ⎝dt      ⎠    ⎝            dt       \n",
       "──────────────────────────────────────────────────────────────────────────────\n",
       "                                                                              \n",
       "                                                                              \n",
       "                                                                              \n",
       "\n",
       "              ________   ________⎞            ⎛                               \n",
       "     2⋅ⅈ⋅Θ(t) d          d       ⎟ d          ⎜     4⋅ⅈ⋅Θ(t) ____ d           \n",
       "- 2⋅ℯ        ⋅──(Z(t)) - ──(Z(t))⎟⋅──(Z(t)) + ⎜2⋅ⅈ⋅ℯ        ⋅Z(t)⋅──(Z(t)) + 2\n",
       "              dt         dt      ⎠ dt         ⎝                   dt          \n",
       "──────────────────────────────────────────────────────────────────────────────\n",
       "                                       2                                      \n",
       "                                   ____   2        ____                       \n",
       "                                   Z(t) ⋅Z (t) - 2⋅Z(t)⋅Z(t) + 1              \n",
       "\n",
       "                                           ________            ________     ⎞ \n",
       "    2⋅ⅈ⋅Θ(t) ____ d               2⋅ⅈ⋅Θ(t) d                   d            ⎟ \n",
       "⋅ⅈ⋅ℯ        ⋅Z(t)⋅──(Z(t)) - 2⋅ⅈ⋅ℯ        ⋅──(Z(t))⋅Z(t) - 2⋅ⅈ⋅──(Z(t))⋅Z(t)⎟⋅\n",
       "                  dt                       dt                  dt           ⎠ \n",
       "──────────────────────────────────────────────────────────────────────────────\n",
       "                                                                              \n",
       "                                                                              \n",
       "                                                                              \n",
       "\n",
       "        ⎞            \n",
       "d       ⎟  -2⋅ⅈ⋅Θ(t) \n",
       "──(Θ(t))⎟⋅ℯ          \n",
       "dt      ⎠            \n",
       "─────────────────────\n",
       "                     \n",
       "                     \n",
       "                     "
      ]
     },
     "execution_count": 89,
     "metadata": {},
     "output_type": "execute_result"
    }
   ],
   "source": [
    "G = -simplify(det((g(Theta(t),Z(t))*g(Theta(t),Z(t))).diff(t)))\n",
    "collect(G, [Theta(t),Z(t)])"
   ]
  },
  {
   "cell_type": "code",
   "execution_count": null,
   "metadata": {},
   "outputs": [],
   "source": []
  },
  {
   "cell_type": "code",
   "execution_count": null,
   "metadata": {
    "collapsed": true
   },
   "outputs": [],
   "source": []
  },
  {
   "cell_type": "code",
   "execution_count": null,
   "metadata": {
    "collapsed": true
   },
   "outputs": [],
   "source": []
  },
  {
   "cell_type": "code",
   "execution_count": 6,
   "metadata": {},
   "outputs": [
    {
     "data": {
      "image/png": "[encoded data removed]",
      "text/plain": [
       "<matplotlib.figure.Figure at 0x7f007960f5f8>"
      ]
     },
     "metadata": {},
     "output_type": "display_data"
    }
   ],
   "source": [
    "line = np.linspace(-1,1,124,endpoint=True)\n",
    "line45 = np.array([Action(R(pi.n()/4),zi) for zi in line])\n",
    "\n",
    "plot1 = plt.plot([re(zi) for zi in line45],[im(zi) for zi in line45])\n",
    "plt.show(plot1)"
   ]
  },
  {
   "cell_type": "code",
   "execution_count": 177,
   "metadata": {
    "scrolled": false
   },
   "outputs": [
    {
     "data": {
      "image/png": "[encoded data removed]",
      "text/latex": [
       "$$\\left ( 0.0, \\quad 1.0, \\quad 0.0, \\quad 1.0\\right )$$"
      ],
      "text/plain": [
       "(0.0, 1.0, 0.0, 1.0)"
      ]
     },
     "execution_count": 177,
     "metadata": {},
     "output_type": "execute_result"
    }
   ],
   "source": [
    "from matplotlib.pyplot import cm \n",
    "\n",
    "NN=20\n",
    "colors = cm.Blues(np.linspace(0.3,0.9,NN+1))\n",
    "\n",
    "plt.figure(num=None, figsize=(4, 4), dpi=1080, facecolor='w')\n",
    "plt.axis('off')\n",
    "#for i in range(-NN,NN+1):\n",
    "    #aux = np.array([Action(P(zi),zi) for zi in line45])\n",
    "    #plt.plot([re(zi) for zi in aux],[im(zi) for zi in aux], color = colors[abs(i)])\n",
    "#plt.gca().set_aspect('equal')\n",
    "#plt.show()"
   ]
  },
  {
   "cell_type": "code",
   "execution_count": 178,
   "metadata": {},
   "outputs": [
    {
     "data": {
      "image/png": "[encoded data removed]",
      "text/latex": [
       "$$\\left ( \\left[\\begin{matrix}- \\frac{\\overline{Z{\\left (t \\right )}} \\frac{d}{d t} Z{\\left (t \\right )} - \\overline{\\frac{d}{d t} Z{\\left (t \\right )}} Z{\\left (t \\right )}}{2 \\overline{Z{\\left (t \\right )}} Z{\\left (t \\right )} - 2} & - \\frac{\\frac{d}{d t} Z{\\left (t \\right )}}{\\overline{Z{\\left (t \\right )}} Z{\\left (t \\right )} - 1}\\\\- \\frac{\\overline{\\frac{d}{d t} Z{\\left (t \\right )}}}{\\overline{Z{\\left (t \\right )}} Z{\\left (t \\right )} - 1} & \\frac{\\overline{Z{\\left (t \\right )}} \\frac{d}{d t} Z{\\left (t \\right )} - \\overline{\\frac{d}{d t} Z{\\left (t \\right )}} Z{\\left (t \\right )}}{2 \\overline{Z{\\left (t \\right )}} Z{\\left (t \\right )} - 2}\\end{matrix}\\right], \\quad \\left[\\begin{matrix}0 & \\left. \\frac{d}{d t} Z{\\left (t \\right )} \\right|_{\\substack{ t=0 }}\\\\\\overline{\\left. \\frac{d}{d t} Z{\\left (t \\right )} \\right|_{\\substack{ t=0 }}} & 0\\end{matrix}\\right]\\right )$$"
      ],
      "text/plain": [
       "⎛⎡ ⎛                ________     ⎞                                ⎤           \n",
       "⎜⎢ ⎜____ d          d            ⎟              d                 ⎥           \n",
       "⎜⎢-⎜Z(t)⋅──(Z(t)) - ──(Z(t))⋅Z(t)⎟             -──(Z(t))          ⎥           \n",
       "⎜⎢ ⎝     dt         dt           ⎠              dt                ⎥  ⎡        \n",
       "⎜⎢─────────────────────────────────          ─────────────        ⎥, ⎢      0 \n",
       "⎜⎢           ____                            ____                 ⎥  ⎢        \n",
       "⎜⎢         2⋅Z(t)⋅Z(t) - 2                   Z(t)⋅Z(t) - 1        ⎥  ⎢        \n",
       "⎜⎢                                                                ⎥  ⎢________\n",
       "⎜⎢             ________                              ________     ⎥  ⎢⎛d      \n",
       "⎜⎢             d                     ____ d          d            ⎥  ⎢⎜──(Z(t)\n",
       "⎜⎢            -──(Z(t))              Z(t)⋅──(Z(t)) - ──(Z(t))⋅Z(t)⎥  ⎣⎝dt     \n",
       "⎜⎢             dt                         dt         dt           ⎥           \n",
       "⎜⎢          ─────────────            ─────────────────────────────⎥           \n",
       "⎜⎢          ____                             ⎛____         ⎞      ⎥           \n",
       "⎝⎣          Z(t)⋅Z(t) - 1                  2⋅⎝Z(t)⋅Z(t) - 1⎠      ⎦           \n",
       "\n",
       "                       ⎞\n",
       "                       ⎟\n",
       "                       ⎟\n",
       "        ⎛d       ⎞│   ⎤⎟\n",
       "        ⎜──(Z(t))⎟│   ⎥⎟\n",
       "        ⎝dt      ⎠│t=0⎥⎟\n",
       "                      ⎥⎟\n",
       "______                ⎥⎟\n",
       " ⎞│                   ⎥⎟\n",
       ")⎟│           0       ⎥⎟\n",
       " ⎠│t=0                ⎦⎟\n",
       "                       ⎟\n",
       "                       ⎟\n",
       "                       ⎟\n",
       "                       ⎠"
      ]
     },
     "execution_count": 178,
     "metadata": {},
     "output_type": "execute_result"
    }
   ],
   "source": []
  },
  {
   "cell_type": "code",
   "execution_count": 179,
   "metadata": {},
   "outputs": [
    {
     "data": {
      "image/png": "[encoded data removed]",
      "text/latex": [
       "$$- \\frac{4 \\overline{\\frac{d}{d t} Z{\\left (t \\right )}} \\frac{d}{d t} Z{\\left (t \\right )}}{\\overline{Z{\\left (t \\right )}}^{2} Z^{2}{\\left (t \\right )} - 2 \\overline{Z{\\left (t \\right )}} Z{\\left (t \\right )} + 1}$$"
      ],
      "text/plain": [
       "       ________              \n",
       "       d        d            \n",
       "    -4⋅──(Z(t))⋅──(Z(t))     \n",
       "       dt       dt           \n",
       "─────────────────────────────\n",
       "    2                        \n",
       "____   2        ____         \n",
       "Z(t) ⋅Z (t) - 2⋅Z(t)⋅Z(t) + 1"
      ]
     },
     "execution_count": 179,
     "metadata": {},
     "output_type": "execute_result"
    }
   ],
   "source": []
  },
  {
   "cell_type": "code",
   "execution_count": 168,
   "metadata": {},
   "outputs": [
    {
     "data": {
      "image/png": "[encoded data removed]",
      "text/latex": [
       "$$\\left ( \\left[\\begin{matrix}- \\frac{z}{\\sqrt{z \\overline{z}}}\\\\1\\end{matrix}\\right], \\quad \\left[\\begin{matrix}\\frac{z}{\\sqrt{z \\overline{z}}}\\\\1\\end{matrix}\\right]\\right )$$"
      ],
      "text/plain": [
       "⎛⎡  -z    ⎤  ⎡   z    ⎤⎞\n",
       "⎜⎢────────⎥, ⎢────────⎥⎟\n",
       "⎜⎢   _____⎥  ⎢   _____⎥⎟\n",
       "⎜⎢  ╱   _ ⎥  ⎢  ╱   _ ⎥⎟\n",
       "⎜⎢╲╱  z⋅z ⎥  ⎢╲╱  z⋅z ⎥⎟\n",
       "⎜⎢        ⎥  ⎢        ⎥⎟\n",
       "⎝⎣   1    ⎦  ⎣   1    ⎦⎠"
      ]
     },
     "execution_count": 168,
     "metadata": {},
     "output_type": "execute_result"
    }
   ],
   "source": []
  }
 ],
 "metadata": {
  "kernelspec": {
   "display_name": "Python 3",
   "language": "python",
   "name": "python3"
  },
  "language_info": {
   "codemirror_mode": {
    "name": "ipython",
    "version": 3
   },
   "file_extension": ".py",
   "mimetype": "text/x-python",
   "name": "python",
   "nbconvert_exporter": "python",
   "pygments_lexer": "ipython3",
   "version": "3.5.2"
  }
 },
 "nbformat": 4,
 "nbformat_minor": 2
}
