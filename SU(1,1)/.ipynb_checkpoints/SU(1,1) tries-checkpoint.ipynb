{
 "cells": [
  {
   "cell_type": "code",
   "execution_count": 1,
   "metadata": {
    "collapsed": true
   },
   "outputs": [],
   "source": [
    "from sympy import *\n",
    "import numpy as np\n",
    "import matplotlib.pyplot as plt\n",
    "from su11_routines import *\n",
    "init_printing()"
   ]
  },
  {
   "cell_type": "code",
   "execution_count": 2,
   "metadata": {},
   "outputs": [
    {
     "data": {
      "image/png": "[encoded data removed]",
      "text/latex": [
       "$$z e^{i \\theta}$$"
      ],
      "text/plain": [
       "   ⅈ⋅θ\n",
       "z⋅ℯ   "
      ]
     },
     "execution_count": 2,
     "metadata": {},
     "output_type": "execute_result"
    }
   ],
   "source": [
    "theta = symbols('theta')\n",
    "Action(R(theta),z)"
   ]
  },
  {
   "cell_type": "code",
   "execution_count": 3,
   "metadata": {
    "collapsed": true
   },
   "outputs": [],
   "source": [
    "line = np.linspace(-1,1,124,endpoint=True)"
   ]
  },
  {
   "cell_type": "code",
   "execution_count": 4,
   "metadata": {
    "collapsed": true
   },
   "outputs": [],
   "source": [
    "line45 = np.array([Action(R(pi.n()/4),zi) for zi in line])\n"
   ]
  },
  {
   "cell_type": "code",
   "execution_count": 5,
   "metadata": {},
   "outputs": [
    {
     "data": {
      "image/png": "[encoded data removed]",
      "text/latex": [
       "$$z$$"
      ],
      "text/plain": [
       "z"
      ]
     },
     "execution_count": 5,
     "metadata": {},
     "output_type": "execute_result"
    }
   ],
   "source": [
    "simplify(Action(P(z),0))"
   ]
  },
  {
   "cell_type": "code",
   "execution_count": 15,
   "metadata": {},
   "outputs": [
    {
     "data": {
      "image/png": "[encoded data removed]",
      "text/latex": [
       "$$\\left ( \\left[\\begin{matrix}\\frac{1}{\\sqrt{- z \\overline{z} + 1}} & - \\frac{z}{\\sqrt{- z \\overline{z} + 1}}\\\\- \\frac{\\overline{z}}{\\sqrt{- z \\overline{z} + 1}} & \\frac{1}{\\sqrt{- z \\overline{z} + 1}}\\end{matrix}\\right], \\quad \\left[\\begin{matrix}1 & 0\\\\0 & 1\\end{matrix}\\right]\\right )$$"
      ],
      "text/plain": [
       "⎛⎡      1              -z       ⎤        ⎞\n",
       "⎜⎢──────────────  ──────────────⎥, ⎡1  0⎤⎟\n",
       "⎜⎢   ___________     ___________⎥  ⎢    ⎥⎟\n",
       "⎜⎢  ╱     _         ╱     _     ⎥  ⎣0  1⎦⎟\n",
       "⎜⎢╲╱  - z⋅z + 1   ╲╱  - z⋅z + 1 ⎥        ⎟\n",
       "⎜⎢                              ⎥        ⎟\n",
       "⎜⎢      _                       ⎥        ⎟\n",
       "⎜⎢     -z               1       ⎥        ⎟\n",
       "⎜⎢──────────────  ──────────────⎥        ⎟\n",
       "⎜⎢   ___________     ___________⎥        ⎟\n",
       "⎜⎢  ╱     _         ╱     _     ⎥        ⎟\n",
       "⎝⎣╲╱  - z⋅z + 1   ╲╱  - z⋅z + 1 ⎦        ⎠"
      ]
     },
     "execution_count": 15,
     "metadata": {},
     "output_type": "execute_result"
    }
   ],
   "source": [
    "simplify(P(z).inv()), simplify(P(-z)*P(z))"
   ]
  },
  {
   "cell_type": "code",
   "execution_count": null,
   "metadata": {},
   "outputs": [],
   "source": []
  },
  {
   "cell_type": "code",
   "execution_count": 8,
   "metadata": {},
   "outputs": [
    {
     "data": {
      "image/png": "[encoded data removed]",
      "text/plain": [
       "<matplotlib.figure.Figure at 0x7fe6fe514d68>"
      ]
     },
     "metadata": {},
     "output_type": "display_data"
    }
   ],
   "source": [
    "plot1 = plt.plot([re(zi) for zi in line45],[im(zi) for zi in line45])\n",
    "plt.show(plot1)"
   ]
  },
  {
   "cell_type": "code",
   "execution_count": 16,
   "metadata": {
    "scrolled": false
   },
   "outputs": [
    {
     "data": {
      "image/png": "[encoded data removed]",
      "text/latex": [
       "$$\\left ( 0.0, \\quad 1.0, \\quad 0.0, \\quad 1.0\\right )$$"
      ],
      "text/plain": [
       "(0.0, 1.0, 0.0, 1.0)"
      ]
     },
     "execution_count": 16,
     "metadata": {},
     "output_type": "execute_result"
    }
   ],
   "source": [
    "from matplotlib.pyplot import cm \n",
    "\n",
    "NN=20\n",
    "colors = cm.Blues(np.linspace(0.3,0.9,NN+1))\n",
    "\n",
    "plt.figure(num=None, figsize=(4, 4), dpi=1080, facecolor='w')\n",
    "plt.axis('off')\n",
    "#for i in range(-NN,NN+1):\n",
    "    #aux = np.array([Action(P(zi),zi) for zi in line45])\n",
    "    #plt.plot([re(zi) for zi in aux],[im(zi) for zi in aux], color = colors[abs(i)])\n",
    "#plt.gca().set_aspect('equal')\n",
    "#plt.show()"
   ]
  },
  {
   "cell_type": "code",
   "execution_count": 165,
   "metadata": {},
   "outputs": [],
   "source": []
  },
  {
   "cell_type": "code",
   "execution_count": 152,
   "metadata": {},
   "outputs": [
    {
     "data": {
      "image/png": "[encoded data removed]",
      "text/latex": [
       "$$\\left ( \\left[\\begin{matrix}- \\frac{\\overline{Z{\\left (t \\right )}} \\frac{d}{d t} Z{\\left (t \\right )} - \\overline{\\frac{d}{d t} Z{\\left (t \\right )}} Z{\\left (t \\right )}}{2 \\overline{Z{\\left (t \\right )}} Z{\\left (t \\right )} - 2} & - \\frac{\\frac{d}{d t} Z{\\left (t \\right )}}{\\overline{Z{\\left (t \\right )}} Z{\\left (t \\right )} - 1}\\\\- \\frac{\\overline{\\frac{d}{d t} Z{\\left (t \\right )}}}{\\overline{Z{\\left (t \\right )}} Z{\\left (t \\right )} - 1} & \\frac{\\overline{Z{\\left (t \\right )}} \\frac{d}{d t} Z{\\left (t \\right )} - \\overline{\\frac{d}{d t} Z{\\left (t \\right )}} Z{\\left (t \\right )}}{2 \\overline{Z{\\left (t \\right )}} Z{\\left (t \\right )} - 2}\\end{matrix}\\right], \\quad \\left[\\begin{matrix}0 & \\left. \\frac{d}{d t} Z{\\left (t \\right )} \\right|_{\\substack{ t=0 }}\\\\\\overline{\\left. \\frac{d}{d t} Z{\\left (t \\right )} \\right|_{\\substack{ t=0 }}} & 0\\end{matrix}\\right]\\right )$$"
      ],
      "text/plain": [
       "⎛⎡ ⎛                ________     ⎞                                ⎤           \n",
       "⎜⎢ ⎜____ d          d            ⎟              d                 ⎥           \n",
       "⎜⎢-⎜Z(t)⋅──(Z(t)) - ──(Z(t))⋅Z(t)⎟             -──(Z(t))          ⎥           \n",
       "⎜⎢ ⎝     dt         dt           ⎠              dt                ⎥  ⎡        \n",
       "⎜⎢─────────────────────────────────          ─────────────        ⎥, ⎢      0 \n",
       "⎜⎢           ____                            ____                 ⎥  ⎢        \n",
       "⎜⎢         2⋅Z(t)⋅Z(t) - 2                   Z(t)⋅Z(t) - 1        ⎥  ⎢        \n",
       "⎜⎢                                                                ⎥  ⎢________\n",
       "⎜⎢             ________                              ________     ⎥  ⎢⎛d      \n",
       "⎜⎢             d                     ____ d          d            ⎥  ⎢⎜──(Z(t)\n",
       "⎜⎢            -──(Z(t))              Z(t)⋅──(Z(t)) - ──(Z(t))⋅Z(t)⎥  ⎣⎝dt     \n",
       "⎜⎢             dt                         dt         dt           ⎥           \n",
       "⎜⎢          ─────────────            ─────────────────────────────⎥           \n",
       "⎜⎢          ____                             ⎛____         ⎞      ⎥           \n",
       "⎝⎣          Z(t)⋅Z(t) - 1                  2⋅⎝Z(t)⋅Z(t) - 1⎠      ⎦           \n",
       "\n",
       "                       ⎞\n",
       "                       ⎟\n",
       "                       ⎟\n",
       "        ⎛d       ⎞│   ⎤⎟\n",
       "        ⎜──(Z(t))⎟│   ⎥⎟\n",
       "        ⎝dt      ⎠│t=0⎥⎟\n",
       "                      ⎥⎟\n",
       "______                ⎥⎟\n",
       " ⎞│                   ⎥⎟\n",
       ")⎟│           0       ⎥⎟\n",
       " ⎠│t=0                ⎦⎟\n",
       "                       ⎟\n",
       "                       ⎟\n",
       "                       ⎟\n",
       "                       ⎠"
      ]
     },
     "execution_count": 152,
     "metadata": {},
     "output_type": "execute_result"
    }
   ],
   "source": [
    "t = symbols('t', real=True)\n",
    "\n",
    "class Z(Function):\n",
    "    @classmethod\n",
    "    def eval(cls, x):\n",
    "        if x.is_Number:\n",
    "            if x is S.Zero:\n",
    "                return S.Zero\n",
    "\n",
    "simplify(P(-Z(t))*P(Z(t)).diff(t)), simplify(P(Z(t)).diff(t).subs(t,0))"
   ]
  },
  {
   "cell_type": "code",
   "execution_count": 148,
   "metadata": {},
   "outputs": [
    {
     "data": {
      "image/png": "[encoded data removed]",
      "text/latex": [
       "$$- \\frac{4 \\overline{\\frac{d}{d t} Z{\\left (t \\right )}} \\frac{d}{d t} Z{\\left (t \\right )}}{\\overline{Z{\\left (t \\right )}}^{2} Z^{2}{\\left (t \\right )} - 2 \\overline{Z{\\left (t \\right )}} Z{\\left (t \\right )} + 1}$$"
      ],
      "text/plain": [
       "       ________              \n",
       "       d        d            \n",
       "    -4⋅──(Z(t))⋅──(Z(t))     \n",
       "       dt       dt           \n",
       "─────────────────────────────\n",
       "    2                        \n",
       "____   2        ____         \n",
       "Z(t) ⋅Z (t) - 2⋅Z(t)⋅Z(t) + 1"
      ]
     },
     "execution_count": 148,
     "metadata": {},
     "output_type": "execute_result"
    }
   ],
   "source": [
    "simplify(det((P(Z(t))*P(Z(t))).diff(t)))"
   ]
  },
  {
   "cell_type": "code",
   "execution_count": 149,
   "metadata": {},
   "outputs": [
    {
     "data": {
      "image/png": "[encoded data removed]",
      "text/latex": [
       "$$\\left ( \\left[\\begin{matrix}- \\frac{z}{\\sqrt{z \\overline{z}}}\\\\1\\end{matrix}\\right], \\quad \\left[\\begin{matrix}\\frac{z}{\\sqrt{z \\overline{z}}}\\\\1\\end{matrix}\\right]\\right )$$"
      ],
      "text/plain": [
       "⎛⎡  -z    ⎤  ⎡   z    ⎤⎞\n",
       "⎜⎢────────⎥, ⎢────────⎥⎟\n",
       "⎜⎢   _____⎥  ⎢   _____⎥⎟\n",
       "⎜⎢  ╱   _ ⎥  ⎢  ╱   _ ⎥⎟\n",
       "⎜⎢╲╱  z⋅z ⎥  ⎢╲╱  z⋅z ⎥⎟\n",
       "⎜⎢        ⎥  ⎢        ⎥⎟\n",
       "⎝⎣   1    ⎦  ⎣   1    ⎦⎠"
      ]
     },
     "execution_count": 149,
     "metadata": {},
     "output_type": "execute_result"
    }
   ],
   "source": [
    "e1 = simplify(P(z).eigenvects())[0][2][0]\n",
    "e2 = simplify(P(z).eigenvects())[1][2][0]\n",
    "\n",
    "e1, e2"
   ]
  },
  {
   "cell_type": "code",
   "execution_count": null,
   "metadata": {},
   "outputs": [],
   "source": [
    "for i in range()"
   ]
  },
  {
   "cell_type": "code",
   "execution_count": null,
   "metadata": {
    "collapsed": true
   },
   "outputs": [],
   "source": []
  }
 ],
 "metadata": {
  "kernelspec": {
   "display_name": "Python 3",
   "language": "python",
   "name": "python3"
  },
  "language_info": {
   "codemirror_mode": {
    "name": "ipython",
    "version": 3
   },
   "file_extension": ".py",
   "mimetype": "text/x-python",
   "name": "python",
   "nbconvert_exporter": "python",
   "pygments_lexer": "ipython3",
   "version": "3.5.2"
  }
 },
 "nbformat": 4,
 "nbformat_minor": 2
}
